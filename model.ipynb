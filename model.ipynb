{
  "nbformat": 4,
  "nbformat_minor": 0,
  "metadata": {
    "colab": {
      "provenance": [],
      "gpuType": "T4",
      "authorship_tag": "ABX9TyOgH7j+oY8vVRx+qfNjFQ8J",
      "include_colab_link": true
    },
    "kernelspec": {
      "name": "python3",
      "display_name": "Python 3"
    },
    "language_info": {
      "name": "python"
    },
    "accelerator": "TPU"
  },
  "cells": [
    {
      "cell_type": "markdown",
      "metadata": {
        "id": "view-in-github",
        "colab_type": "text"
      },
      "source": [
        "<a href=\"https://colab.research.google.com/github/heartzhacker/Emotion-classification/blob/main/model.ipynb\" target=\"_parent\"><img src=\"https://colab.research.google.com/assets/colab-badge.svg\" alt=\"Open In Colab\"/></a>"
      ]
    },
    {
      "cell_type": "markdown",
      "source": [
        "#**Importing the necessary libraries**\n",
        "\n"
      ],
      "metadata": {
        "id": "qGmvDk54Irzr"
      }
    },
    {
      "cell_type": "code",
      "execution_count": 1,
      "metadata": {
        "id": "UgJPxtJeyMEs"
      },
      "outputs": [],
      "source": [
        "import numpy as np\n",
        "import pandas as pd\n",
        "import tensorflow as tf\n",
        "import matplotlib.pyplot as plt\n",
        "import cv2\n",
        "import os\n",
        "import zipfile"
      ]
    },
    {
      "cell_type": "code",
      "source": [
        "from google.colab import drive\n",
        "drive.mount('/content/drive')"
      ],
      "metadata": {
        "colab": {
          "base_uri": "https://localhost:8080/"
        },
        "id": "RWDQgA2YyzZf",
        "outputId": "2b1d068d-3962-4511-ff33-079c484ae209"
      },
      "execution_count": 2,
      "outputs": [
        {
          "output_type": "stream",
          "name": "stdout",
          "text": [
            "Mounted at /content/drive\n"
          ]
        }
      ]
    },
    {
      "cell_type": "code",
      "source": [
        "local_data_folder = \"/content/Data\"\n",
        "os.makedirs(local_data_folder, exist_ok=True)"
      ],
      "metadata": {
        "id": "gW_HO0ORy3s9"
      },
      "execution_count": 3,
      "outputs": []
    },
    {
      "cell_type": "markdown",
      "source": [
        "###Importing the **RAVDESS** dataset saved in my Gdrive as a zip file"
      ],
      "metadata": {
        "id": "-N_d_j4mJld8"
      }
    },
    {
      "cell_type": "code",
      "source": [
        "data_zip_file = \"/content/drive/MyDrive/data.zip\"\n",
        "\n",
        "with zipfile.ZipFile(data_zip_file, 'r') as zip_ref:\n",
        "    zip_ref.extractall(local_data_folder)"
      ],
      "metadata": {
        "id": "In09SaVKzAty"
      },
      "execution_count": 4,
      "outputs": []
    },
    {
      "cell_type": "markdown",
      "source": [
        "Dividing each video in 20 frames per second"
      ],
      "metadata": {
        "id": "erorZiqLP4Ex"
      }
    },
    {
      "cell_type": "code",
      "source": [
        "import cv2\n",
        "import os\n",
        "\n",
        "def extract_frames(video_path, output_folder, target_fps=20):\n",
        "    cap = cv2.VideoCapture(video_path)\n",
        "    video_fps = int(cap.get(cv2.CAP_PROP_FPS))\n",
        "    frame_count = int(cap.get(cv2.CAP_PROP_FRAME_COUNT))\n",
        "    every_nth_frame = video_fps // target_fps\n",
        "\n",
        "    os.makedirs(output_folder, exist_ok=True)\n",
        "\n",
        "    frame_number = 0\n",
        "    extracted_frames = 0\n",
        "    while cap.isOpened():\n",
        "        ret, frame = cap.read()\n",
        "        if not ret:\n",
        "            break\n",
        "\n",
        "        if frame_number % every_nth_frame == 0:\n",
        "            frame_file = os.path.join(output_folder, f\"frame{extracted_frames:04d}.png\")\n",
        "            cv2.imwrite(frame_file, frame)\n",
        "            extracted_frames += 1\n",
        "\n",
        "        frame_number += 1\n",
        "\n",
        "    cap.release()\n",
        "\n",
        "data_folder = \"/content/Data/data\"\n",
        "output_base_folder = \"/content/Output_RAVDESS\"\n",
        "\n",
        "for actor in range(1, 25):\n",
        "    actor_folder = f\"Actor_{actor:02d}\"\n",
        "    actor_data_folder = os.path.join(data_folder, actor_folder)\n",
        "    actor_output_folder = os.path.join(output_base_folder, actor_folder)\n",
        "\n",
        "    file_list = os.listdir(actor_data_folder)\n",
        "\n",
        "    for file in file_list:\n",
        "        if file.endswith(\".mp4\"):\n",
        "            video_path = os.path.join(actor_data_folder, file)\n",
        "            video_output_folder = os.path.join(actor_output_folder, os.path.splitext(file)[0])\n",
        "            extract_frames(video_path, video_output_folder, target_fps=20)"
      ],
      "metadata": {
        "id": "MsTPPhfqJ5ea"
      },
      "execution_count": null,
      "outputs": []
    },
    {
      "cell_type": "code",
      "source": [],
      "metadata": {
        "id": "945SodWKJ5g0"
      },
      "execution_count": null,
      "outputs": []
    },
    {
      "cell_type": "code",
      "source": [],
      "metadata": {
        "id": "6yMAyGn8J5jF"
      },
      "execution_count": null,
      "outputs": []
    },
    {
      "cell_type": "code",
      "source": [],
      "metadata": {
        "id": "dWAV2fT3J5lO"
      },
      "execution_count": null,
      "outputs": []
    },
    {
      "cell_type": "code",
      "source": [],
      "metadata": {
        "id": "wRWF9LB3J5nx"
      },
      "execution_count": null,
      "outputs": []
    },
    {
      "cell_type": "code",
      "source": [],
      "metadata": {
        "id": "jNND9aM_J5qX"
      },
      "execution_count": null,
      "outputs": []
    },
    {
      "cell_type": "code",
      "source": [],
      "metadata": {
        "id": "gQeqMto1J5sv"
      },
      "execution_count": null,
      "outputs": []
    },
    {
      "cell_type": "code",
      "source": [],
      "metadata": {
        "id": "aV4pCwr7J5vL"
      },
      "execution_count": null,
      "outputs": []
    },
    {
      "cell_type": "code",
      "source": [],
      "metadata": {
        "id": "aq822al3J5xO"
      },
      "execution_count": null,
      "outputs": []
    },
    {
      "cell_type": "code",
      "source": [],
      "metadata": {
        "id": "7Iu4dH1TJ5z7"
      },
      "execution_count": null,
      "outputs": []
    },
    {
      "cell_type": "code",
      "source": [],
      "metadata": {
        "id": "SNCY4_L5J52s"
      },
      "execution_count": null,
      "outputs": []
    },
    {
      "cell_type": "code",
      "source": [],
      "metadata": {
        "id": "N0HLVfM6J55N"
      },
      "execution_count": null,
      "outputs": []
    },
    {
      "cell_type": "code",
      "source": [],
      "metadata": {
        "id": "_g7Ub0MBJ56y"
      },
      "execution_count": null,
      "outputs": []
    },
    {
      "cell_type": "code",
      "source": [],
      "metadata": {
        "id": "KhtrKuSoJ59n"
      },
      "execution_count": null,
      "outputs": []
    }
  ]
}