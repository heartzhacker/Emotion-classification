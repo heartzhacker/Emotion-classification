{
  "nbformat": 4,
  "nbformat_minor": 0,
  "metadata": {
    "colab": {
      "provenance": [],
      "authorship_tag": "ABX9TyMHf5yXNgAZZ3T6kyk38+F3",
      "include_colab_link": true
    },
    "kernelspec": {
      "name": "python3",
      "display_name": "Python 3"
    },
    "language_info": {
      "name": "python"
    },
    "accelerator": "TPU"
  },
  "cells": [
    {
      "cell_type": "markdown",
      "metadata": {
        "id": "view-in-github",
        "colab_type": "text"
      },
      "source": [
        "<a href=\"https://colab.research.google.com/github/heartzhacker/Emotion-classification/blob/main/Splitting_data.ipynb\" target=\"_parent\"><img src=\"https://colab.research.google.com/assets/colab-badge.svg\" alt=\"Open In Colab\"/></a>"
      ]
    },
    {
      "cell_type": "markdown",
      "source": [
        "#**Separating the Data**"
      ],
      "metadata": {
        "id": "2XtU3cseksnS"
      }
    },
    {
      "cell_type": "markdown",
      "source": [
        "##Importing the necessary libraries and connecting to Google Drive"
      ],
      "metadata": {
        "id": "SBRGq7kokf-k"
      }
    },
    {
      "cell_type": "code",
      "execution_count": 63,
      "metadata": {
        "id": "BTHT7n5DQ6uZ"
      },
      "outputs": [],
      "source": [
        "import numpy as np\n",
        "import pandas as pd\n",
        "import tensorflow as tf\n",
        "import matplotlib.pyplot as plt\n",
        "import cv2\n",
        "import os\n",
        "import zipfile\n",
        "import pandas as pd"
      ]
    },
    {
      "cell_type": "code",
      "source": [
        "from google.colab import drive\n",
        "drive.mount('/content/drive')"
      ],
      "metadata": {
        "colab": {
          "base_uri": "https://localhost:8080/"
        },
        "id": "DZr7fY7GQ_-K",
        "outputId": "35395310-6676-4bcb-9a97-30c148a81926"
      },
      "execution_count": null,
      "outputs": [
        {
          "output_type": "stream",
          "name": "stdout",
          "text": [
            "Mounted at /content/drive\n"
          ]
        }
      ]
    },
    {
      "cell_type": "code",
      "source": [
        "local_data_folder = \"/content\"\n",
        "os.makedirs(local_data_folder, exist_ok=True)"
      ],
      "metadata": {
        "id": "h9BsQn6YRrRJ"
      },
      "execution_count": null,
      "outputs": []
    },
    {
      "cell_type": "markdown",
      "source": [
        "##Extracting the Information about **RAVDESS** dataset into a CSV file"
      ],
      "metadata": {
        "id": "ueG2NJ9ekhra"
      }
    },
    {
      "cell_type": "code",
      "source": [
        "import csv\n",
        "import os\n",
        "\n",
        "# Set the input directory\n",
        "input_dir = \"/content/Preprocessed_Frames_VGG\"\n",
        "\n",
        "# Set the path of the CSV file\n",
        "csv_file = \"ravdess_dataset.csv\"\n",
        "\n",
        "# Open the CSV file in write mode\n",
        "with open(csv_file, mode='w', newline='') as file:\n",
        "    writer = csv.writer(file)\n",
        "    writer.writerow([\"path\", \"emotion\", \"intensity\", \"gender\",\"actor\"])  # Write the header row\n",
        "    \n",
        "    # Iterate through the folders in the input directory\n",
        "    for actor_folder in os.listdir(input_dir):\n",
        "        actor_path = os.path.join(input_dir, actor_folder)\n",
        "        gender = \"male\" if int(actor_folder.split(\"_\")[-1]) % 2 == 1 else \"female\"\n",
        "        \n",
        "        # Iterate through the subfolders and frames\n",
        "        for subfolder in os.listdir(actor_path):\n",
        "            subfolder_path = os.path.join(actor_path, subfolder)\n",
        "            emotion = int(subfolder.split(\"-\")[2])\n",
        "            intensity = int(subfolder.split(\"-\")[3])\n",
        "            actor = int(subfolder.split(\"-\")[6])\n",
        "            \n",
        "            # Iterate through the frames\n",
        "            for frame in os.listdir(subfolder_path):\n",
        "                frame_path = os.path.join(subfolder_path, frame)\n",
        "                \n",
        "                # Write the row to the CSV file\n",
        "                writer.writerow([frame_path, emotion, intensity, gender,actor])\n"
      ],
      "metadata": {
        "id": "wlDijqoMRvNN"
      },
      "execution_count": 61,
      "outputs": []
    },
    {
      "cell_type": "markdown",
      "source": [
        "##Separating File Paths and Information for Training and Testing Sets"
      ],
      "metadata": {
        "id": "FE3itHw3kiej"
      }
    },
    {
      "cell_type": "code",
      "source": [
        "# Read the ravdess_dataset.csv file\n",
        "dataset_df = pd.read_csv(\"ravdess_dataset.csv\")\n",
        "\n",
        "# Filter the dataset based on the conditions and create four new DataFrames\n",
        "male_train_df = dataset_df[(dataset_df[\"gender\"] == \"male\") & (dataset_df[\"actor\"] <= 20)]\n",
        "female_train_df = dataset_df[(dataset_df[\"gender\"] == \"female\") & (dataset_df[\"actor\"] <= 20)]\n",
        "test_df = dataset_df[dataset_df[\"actor\"] > 20]\n",
        "\n",
        "\n",
        "# Define the paths for the new CSV files\n",
        "male_train_csv = \"male_train.csv\"\n",
        "female_train_csv = \"female_train.csv\"\n",
        "test_csv = \"test.csv\"\n",
        "\n",
        "\n",
        "# Save the filtered DataFrames to the new CSV files\n",
        "male_train_df.to_csv(male_train_csv, index=False)\n",
        "female_train_df.to_csv(female_train_csv, index=False)\n",
        "test_df.to_csv(test_csv, index=False)\n"
      ],
      "metadata": {
        "id": "-cKSwCqvRw7D"
      },
      "execution_count": 67,
      "outputs": []
    },
    {
      "cell_type": "code",
      "source": [],
      "metadata": {
        "id": "d3dUqGYevkZx"
      },
      "execution_count": null,
      "outputs": []
    }
  ]
}